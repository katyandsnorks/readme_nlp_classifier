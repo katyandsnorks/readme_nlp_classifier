{
 "cells": [
  {
   "cell_type": "code",
   "execution_count": 21,
   "metadata": {},
   "outputs": [],
   "source": [
    "import requests\n",
    "import pandas as pd\n",
    "from bs4 import BeautifulSoup\n",
    "import re"
   ]
  },
  {
   "cell_type": "code",
   "execution_count": 22,
   "metadata": {},
   "outputs": [],
   "source": [
    "response = requests.get('https://github.com/time-series-101-eric-norrick/tsa-fitbit')"
   ]
  },
  {
   "cell_type": "code",
   "execution_count": 23,
   "metadata": {},
   "outputs": [],
   "source": [
    "soup = BeautifulSoup(response.text)"
   ]
  },
  {
   "cell_type": "code",
   "execution_count": 24,
   "metadata": {},
   "outputs": [],
   "source": [
    "lang_list = soup.find_all(class_='language-color')"
   ]
  },
  {
   "cell_type": "code",
   "execution_count": 25,
   "metadata": {},
   "outputs": [],
   "source": [
    "langs = []\n",
    "for lang in lang_list:\n",
    "    if lang.text is not '':\n",
    "        langs.append(lang.text)"
   ]
  },
  {
   "cell_type": "code",
   "execution_count": 26,
   "metadata": {},
   "outputs": [
    {
     "data": {
      "text/plain": [
       "['Jupyter Notebook', 'Python']"
      ]
     },
     "execution_count": 26,
     "metadata": {},
     "output_type": "execute_result"
    }
   ],
   "source": [
    "langs"
   ]
  },
  {
   "cell_type": "code",
   "execution_count": 27,
   "metadata": {},
   "outputs": [],
   "source": [
    "read_me = soup.find_all(class_='Box-body')"
   ]
  },
  {
   "cell_type": "code",
   "execution_count": 28,
   "metadata": {},
   "outputs": [
    {
     "ename": "SyntaxError",
     "evalue": "invalid syntax (<ipython-input-28-0b1084c630cd>, line 1)",
     "output_type": "error",
     "traceback": [
      "\u001b[0;36m  File \u001b[0;32m\"<ipython-input-28-0b1084c630cd>\"\u001b[0;36m, line \u001b[0;32m1\u001b[0m\n\u001b[0;31m    ' '.join(read_me[0].text.split())gsc\u001b[0m\n\u001b[0m                                       ^\u001b[0m\n\u001b[0;31mSyntaxError\u001b[0m\u001b[0;31m:\u001b[0m invalid syntax\n"
     ]
    }
   ],
   "source": [
    "' '.join(read_me[0].text.split())gsc"
   ]
  },
  {
   "cell_type": "code",
   "execution_count": 29,
   "metadata": {},
   "outputs": [],
   "source": [
    "def get_langs(soup):\n",
    "    lang_list = soup.find_all(class_='language-color')\n",
    "    langs = []\n",
    "    for lang in lang_list:\n",
    "        if lang.text is not '':\n",
    "            langs.append(lang['aria-label'])\n",
    "            \n",
    "    return langs\n",
    "            \n",
    "\n",
    "def get_lang_dict(langs):\n",
    "    '''This takes a list of Languages + Percentages and returns those in a dictionary'''\n",
    "    return {re.findall('[^\\d]+',lang)[0][:-1]:float(re.findall('\\d+\\.?\\d?',lang)[0]) for lang in langs}"
   ]
  },
  {
   "cell_type": "code",
   "execution_count": 53,
   "metadata": {},
   "outputs": [],
   "source": [
    "def read_lang(url):\n",
    "    response = requests.get(f'{url}')\n",
    "    soup = BeautifulSoup(response.text)\n",
    "    \n",
    "    read_me = soup.find_all(class_='Box-body')\n",
    "    \n",
    "    langs = get_lang_dict(get_langs(soup))\n",
    "    \n",
    "    if len(read_me) == 0:\n",
    "        return {'Languages':langs, 'readme':''}\n",
    "    \n",
    "    return {'languages':langs, 'readme':' '.join(read_me[0].text.split())}"
   ]
  },
  {
   "cell_type": "code",
   "execution_count": 35,
   "metadata": {},
   "outputs": [],
   "source": [
    "langs, readme = read_lang('https://github.com/ada-power/checkbook')"
   ]
  },
  {
   "cell_type": "code",
   "execution_count": 36,
   "metadata": {},
   "outputs": [
    {
     "data": {
      "text/plain": [
       "'checkbook'"
      ]
     },
     "execution_count": 36,
     "metadata": {},
     "output_type": "execute_result"
    }
   ],
   "source": [
    "readme"
   ]
  },
  {
   "cell_type": "code",
   "execution_count": 54,
   "metadata": {},
   "outputs": [
    {
     "data": {
      "text/plain": [
       "{'Languages': {'Python': 96.9, 'Shell': 3.1}, 'readme': ''}"
      ]
     },
     "execution_count": 54,
     "metadata": {},
     "output_type": "execute_result"
    }
   ],
   "source": [
    "read_lang('https://github.com/Norrick-McGee/hyperspace-rush')"
   ]
  },
  {
   "cell_type": "code",
   "execution_count": 47,
   "metadata": {},
   "outputs": [],
   "source": [
    "url = 'https://github.com/Norrick-McGee/hyperspace-rush'\n",
    "response = requests.get(f'{url}')\n",
    "soup = BeautifulSoup(response.text)\n",
    "    \n",
    "read_me = soup.find_all(class_='Box-body')"
   ]
  },
  {
   "cell_type": "code",
   "execution_count": 48,
   "metadata": {},
   "outputs": [
    {
     "data": {
      "text/plain": [
       "[]"
      ]
     },
     "execution_count": 48,
     "metadata": {},
     "output_type": "execute_result"
    }
   ],
   "source": [
    "read_me"
   ]
  },
  {
   "cell_type": "code",
   "execution_count": null,
   "metadata": {},
   "outputs": [],
   "source": []
  }
 ],
 "metadata": {
  "kernelspec": {
   "display_name": "Python 3",
   "language": "python",
   "name": "python3"
  },
  "language_info": {
   "codemirror_mode": {
    "name": "ipython",
    "version": 3
   },
   "file_extension": ".py",
   "mimetype": "text/x-python",
   "name": "python",
   "nbconvert_exporter": "python",
   "pygments_lexer": "ipython3",
   "version": "3.7.1"
  }
 },
 "nbformat": 4,
 "nbformat_minor": 2
}

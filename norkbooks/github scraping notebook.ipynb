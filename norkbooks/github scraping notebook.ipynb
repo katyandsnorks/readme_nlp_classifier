{
 "cells": [
  {
   "cell_type": "markdown",
   "metadata": {},
   "source": [
    "# Github NLP Project"
   ]
  },
  {
   "cell_type": "code",
   "execution_count": 1,
   "metadata": {},
   "outputs": [],
   "source": [
    "import requests\n",
    "import pandas as pd\n",
    "from bs4 import BeautifulSoup\n",
    "import re"
   ]
  },
  {
   "cell_type": "code",
   "execution_count": 2,
   "metadata": {},
   "outputs": [],
   "source": [
    "response = requests.get('https://github.com/time-series-101-eric-norrick/tsa-fitbit')"
   ]
  },
  {
   "cell_type": "code",
   "execution_count": 3,
   "metadata": {},
   "outputs": [],
   "source": [
    "soup = BeautifulSoup(response.text)"
   ]
  },
  {
   "cell_type": "code",
   "execution_count": 4,
   "metadata": {},
   "outputs": [],
   "source": [
    "lang_list = soup.find_all(class_='language-color')"
   ]
  },
  {
   "cell_type": "code",
   "execution_count": 5,
   "metadata": {},
   "outputs": [],
   "source": [
    "#finding all languages for the given response\n",
    "langs = []\n",
    "for lang in lang_list:\n",
    "    if lang.text is not '':\n",
    "        langs.append(lang.text)"
   ]
  },
  {
   "cell_type": "code",
   "execution_count": 6,
   "metadata": {},
   "outputs": [
    {
     "data": {
      "text/plain": [
       "['Jupyter Notebook', 'Python']"
      ]
     },
     "execution_count": 6,
     "metadata": {},
     "output_type": "execute_result"
    }
   ],
   "source": [
    "langs"
   ]
  },
  {
   "cell_type": "code",
   "execution_count": 7,
   "metadata": {},
   "outputs": [],
   "source": [
    "#getting read_me text from the response\n",
    "read_me = soup.find_all(class_='Box-body')"
   ]
  },
  {
   "cell_type": "code",
   "execution_count": 8,
   "metadata": {},
   "outputs": [],
   "source": [
    "def get_langs(soup):\n",
    "    '''Function to get a list of languages for a Github repo from a url'''\n",
    "    lang_list = soup.find_all(class_='language-color')\n",
    "    langs = []\n",
    "    for lang in lang_list:\n",
    "        if lang.text is not '':\n",
    "            langs.append(lang['aria-label'])\n",
    "            \n",
    "    return langs\n",
    "            \n",
    "def get_lang_dict(langs):\n",
    "    '''This takes a list of Languages + Percentages and returns those in a dictionary'''\n",
    "    return {re.findall('[^\\d]+',lang)[0][:-1]:float(re.findall('\\d+\\.?\\d?',lang)[0]) for lang in langs}"
   ]
  },
  {
   "cell_type": "code",
   "execution_count": 9,
   "metadata": {},
   "outputs": [],
   "source": [
    "def read_lang(url):\n",
    "    '''function to get percentage of languages and read me text of a Github repo from a url'''\n",
    "    response = requests.get(f'{url}')\n",
    "    soup = BeautifulSoup(response.text)\n",
    "    \n",
    "    read_me = soup.find_all(class_='Box-body')\n",
    "    \n",
    "    langs = get_lang_dict(get_langs(soup))\n",
    "    \n",
    "    if len(read_me) == 0:\n",
    "        return {'Languages':langs, 'readme':''}\n",
    "    \n",
    "    return {'languages':langs, 'readme':' '.join(read_me[0].text.split())}"
   ]
  },
  {
   "cell_type": "code",
   "execution_count": 10,
   "metadata": {},
   "outputs": [],
   "source": [
    "#assigning variables to output\n",
    "langs, readme = read_lang('https://github.com/ada-power/checkbook')"
   ]
  },
  {
   "cell_type": "markdown",
   "metadata": {},
   "source": [
    "testing out function"
   ]
  },
  {
   "cell_type": "code",
   "execution_count": 11,
   "metadata": {},
   "outputs": [
    {
     "data": {
      "text/plain": [
       "'readme'"
      ]
     },
     "execution_count": 11,
     "metadata": {},
     "output_type": "execute_result"
    }
   ],
   "source": [
    "readme"
   ]
  },
  {
   "cell_type": "code",
   "execution_count": 12,
   "metadata": {},
   "outputs": [
    {
     "data": {
      "text/plain": [
       "{'Languages': {'Python': 96.9, 'Shell': 3.1}, 'readme': ''}"
      ]
     },
     "execution_count": 12,
     "metadata": {},
     "output_type": "execute_result"
    }
   ],
   "source": [
    "read_lang('https://github.com/Norrick-McGee/hyperspace-rush')"
   ]
  },
  {
   "cell_type": "code",
   "execution_count": 13,
   "metadata": {},
   "outputs": [],
   "source": [
    "url = 'https://github.com/Norrick-McGee/hyperspace-rush'\n",
    "response = requests.get(f'{url}')\n",
    "soup = BeautifulSoup(response.text)\n",
    "    \n",
    "read_me = soup.find_all(class_='Box-body')"
   ]
  },
  {
   "cell_type": "code",
   "execution_count": 14,
   "metadata": {},
   "outputs": [
    {
     "data": {
      "text/plain": [
       "[]"
      ]
     },
     "execution_count": 14,
     "metadata": {},
     "output_type": "execute_result"
    }
   ],
   "source": [
    "read_me"
   ]
  },
  {
   "cell_type": "code",
   "execution_count": 15,
   "metadata": {},
   "outputs": [],
   "source": [
    "read_lang?"
   ]
  },
  {
   "cell_type": "code",
   "execution_count": 16,
   "metadata": {},
   "outputs": [],
   "source": [
    "from prepare import read_lang"
   ]
  },
  {
   "cell_type": "code",
   "execution_count": 17,
   "metadata": {},
   "outputs": [
    {
     "data": {
      "text/plain": [
       "{'Languages': {'Python': 96.9, 'Shell': 3.1}, 'readme': ''}"
      ]
     },
     "execution_count": 17,
     "metadata": {},
     "output_type": "execute_result"
    }
   ],
   "source": [
    "read_lang('https://github.com/Norrick-McGee/hyperspace-rush')"
   ]
  },
  {
   "cell_type": "code",
   "execution_count": null,
   "metadata": {},
   "outputs": [],
   "source": []
  }
 ],
 "metadata": {
  "kernelspec": {
   "display_name": "Python 3",
   "language": "python",
   "name": "python3"
  },
  "language_info": {
   "codemirror_mode": {
    "name": "ipython",
    "version": 3
   },
   "file_extension": ".py",
   "mimetype": "text/x-python",
   "name": "python",
   "nbconvert_exporter": "python",
   "pygments_lexer": "ipython3",
   "version": "3.7.1"
  }
 },
 "nbformat": 4,
 "nbformat_minor": 2
}
